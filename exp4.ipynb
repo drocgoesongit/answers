{
  "metadata": {
    "language_info": {
      "codemirror_mode": {
        "name": "python",
        "version": 3
      },
      "file_extension": ".py",
      "mimetype": "text/x-python",
      "name": "python",
      "nbconvert_exporter": "python",
      "pygments_lexer": "ipython3",
      "version": "3.8"
    },
    "kernelspec": {
      "name": "python",
      "display_name": "Python (Pyodide)",
      "language": "python"
    }
  },
  "nbformat_minor": 4,
  "nbformat": 4,
  "cells": [
    {
      "cell_type": "code",
      "source": "import numpy as np\nimport pandas as pd",
      "metadata": {
        "trusted": true
      },
      "execution_count": 1,
      "outputs": []
    },
    {
      "cell_type": "code",
      "source": "class NaiveBayesClassifier():\n    def gaussian_probability(self, class_idx, x):\n        mean = self.mean[class_idx]\n        var = self.var[class_idx]\n        numerator = np.exp((-1/2)*((x - mean)** 2) / (2*var))\n        denominator = np.sqrt(2 * np.pi * var)\n        prob = numerator / denominator\n        \n        return prob\n    \n    def classwise_probability(self, x):\n        probabilities = []\n        \n        for i in range(self.count):\n            prior = np.log(self.prior[i])\n            conditional = np.sum(np.log(self.gaussian_probability(i, x)))\n            probability = prior + conditional\n            probabilities.append(probability)\n            \n            return self.classes[np.argmax(probabilities)]\n        \n    def fit(self, features, target):\n        self.classes = np.unique(target)\n        self.count = len(self.classes)\n        self.feature_nums = features.shape[1]\n        self.rows = features.shape[0]\n        \n        self.mean = features.groupby(target).apply(np.mean).to_numpy()\n        self.var = features.groupby(target).apply(np.var).to_numpy()\n        \n        self.prior = (features.groupby(target).apply(lambda x: len(x))/ self.rows).to_numpy()\n        \n    def predict(self, features):\n        return [self.classwise_probability(f) for f in features.to_numpy()]\n    \n    def accuracy(self, y_test, y_pred):\n        return np.sum(y_test == y_pred) / len(y_test)",
      "metadata": {
        "trusted": true
      },
      "execution_count": 3,
      "outputs": []
    },
    {
      "cell_type": "code",
      "source": "df = pd.read_csv(\"Iris.csv\")\ndf = df.sample(frac = 1, random_state = 1).reset_index(drop = True)\nprint(\"(Sample, columns): \", df.shape)\nX, y = df.iloc[:, :-1], df.iloc[:, -1]\n\nX_train, X_test, y_train, y_test = X[:100], X[100:], y[:100], y[100:]\n\nprint(\"(Train feature samples, train feature columns): \", X_train.shape)\nprint(\"(Train target samples, train target columns): \", y_train.shape)\nprint(\"(Test feature samples, test feature columns): \", X_test.shape)\nprint(\"(Test feature samples, test feature columns): \", y_test.shape)",
      "metadata": {
        "trusted": true
      },
      "execution_count": 4,
      "outputs": [
        {
          "name": "stdout",
          "text": "(Sample, columns):  (150, 6)\n(Train feature samples, train feature columns):  (100, 5)\n(Train target samples, train target columns):  (100,)\n(Test feature samples, test feature columns):  (50, 5)\n(Test feature samples, test feature columns):  (50,)\n",
          "output_type": "stream"
        }
      ]
    },
    {
      "cell_type": "code",
      "source": "classifier = NaiveBayesClassifier()\nclassifier.fit(X_train, y_train)",
      "metadata": {
        "trusted": true
      },
      "execution_count": 5,
      "outputs": [
        {
          "name": "stderr",
          "text": "/lib/python3.10/site-packages/numpy/core/fromnumeric.py:3472: FutureWarning: In a future version, DataFrame.mean(axis=None) will return a scalar mean over the entire DataFrame. To retain the old behavior, use 'frame.mean(axis=0)' or just 'frame.mean()'\n  return mean(axis=axis, dtype=dtype, out=out, **kwargs)\n",
          "output_type": "stream"
        }
      ]
    },
    {
      "cell_type": "code",
      "source": "print(\"Classification classes: \", classifier.classes)\nprint(\"Number of feautres: \", classifier.feature_nums)",
      "metadata": {
        "trusted": true
      },
      "execution_count": 6,
      "outputs": [
        {
          "name": "stdout",
          "text": "Classification classes:  ['Iris-setosa' 'Iris-versicolor' 'Iris-virginica']\nNumber of feautres:  5\n",
          "output_type": "stream"
        }
      ]
    },
    {
      "cell_type": "code",
      "source": "prediction = classifier.predict(X_test)",
      "metadata": {
        "trusted": true
      },
      "execution_count": 7,
      "outputs": []
    },
    {
      "cell_type": "code",
      "source": "print(\"Accuracy: %.4f\" % classifier.accuracy(y_test, prediction))",
      "metadata": {
        "trusted": true
      },
      "execution_count": 9,
      "outputs": [
        {
          "name": "stdout",
          "text": "Accuracy: 0.3800\n",
          "output_type": "stream"
        }
      ]
    },
    {
      "cell_type": "code",
      "source": "",
      "metadata": {},
      "execution_count": null,
      "outputs": []
    }
  ]
}